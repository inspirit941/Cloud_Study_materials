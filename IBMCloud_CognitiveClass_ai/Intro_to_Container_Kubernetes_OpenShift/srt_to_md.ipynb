{
 "cells": [
  {
   "cell_type": "code",
   "execution_count": 2,
   "metadata": {},
   "outputs": [],
   "source": [
    "import glob"
   ]
  },
  {
   "cell_type": "code",
   "execution_count": 3,
   "metadata": {},
   "outputs": [
    {
     "data": {
      "text/plain": [
       "['1.3_ Building Container Images.srt']"
      ]
     },
     "execution_count": 3,
     "metadata": {},
     "output_type": "execute_result"
    }
   ],
   "source": [
    "glob.glob(\"*.srt\")"
   ]
  },
  {
   "cell_type": "code",
   "execution_count": 10,
   "metadata": {},
   "outputs": [
    {
     "name": "stdout",
     "output_type": "stream",
     "text": [
      "1.3_ Building Container Images.md\n"
     ]
    }
   ],
   "source": [
    "with open(glob.glob(\"*.srt\")[0], 'r') as f:\n",
    "    text = f.readlines()\n",
    "    \n",
    "name = glob.glob(\"*.srt\")[0].split(\".\")\n",
    "name[2] = \"md\"\n",
    "name = \".\".join(name)\n",
    "print(name)\n",
    "result = []\n",
    "for t in text:\n",
    "    if not t[0].isdigit() and t != \"\\n\":\n",
    "        result.append(t)\n",
    "        \n",
    "with open(name, 'w') as f:\n",
    "    f.write(\" \".join(result))"
   ]
  },
  {
   "cell_type": "code",
   "execution_count": null,
   "metadata": {},
   "outputs": [],
   "source": []
  }
 ],
 "metadata": {
  "kernelspec": {
   "display_name": "Python 3",
   "language": "python",
   "name": "python3"
  },
  "language_info": {
   "codemirror_mode": {
    "name": "ipython",
    "version": 3
   },
   "file_extension": ".py",
   "mimetype": "text/x-python",
   "name": "python",
   "nbconvert_exporter": "python",
   "pygments_lexer": "ipython3",
   "version": "3.7.1"
  }
 },
 "nbformat": 4,
 "nbformat_minor": 4
}
